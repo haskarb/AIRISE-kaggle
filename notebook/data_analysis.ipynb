{
 "cells": [
  {
   "cell_type": "code",
   "execution_count": 1,
   "id": "c9e306dc",
   "metadata": {},
   "outputs": [],
   "source": [
    "import sys\n",
    "\n",
    "sys.path.append(\"..\")\n"
   ]
  },
  {
   "cell_type": "code",
   "execution_count": 2,
   "id": "bdefc393",
   "metadata": {},
   "outputs": [],
   "source": [
    "import pandas as pd\n",
    "import polars as pl"
   ]
  },
  {
   "cell_type": "code",
   "execution_count": 3,
   "id": "8eaae0c3",
   "metadata": {},
   "outputs": [],
   "source": [
    "# data = pl.read_csv(\"../data/raw/train.csv\")"
   ]
  },
  {
   "cell_type": "code",
   "execution_count": 4,
   "id": "209e0512",
   "metadata": {},
   "outputs": [
    {
     "name": "stdout",
     "output_type": "stream",
     "text": [
      "Data integrity check passed.\n",
      "Numeric data integrity check successful.\n",
      "Data integrity check passed.\n",
      "Numeric data integrity check successful.\n"
     ]
    }
   ],
   "source": [
    "from src.data.data_preprocess import PreprocessData, DataLoader\n",
    "from pathlib import Path\n",
    "\n",
    "data_loader = DataLoader(file_path=Path(\"../data/raw\"))\n",
    "try:\n",
    "    df_train, df_test = data_loader.load_data()\n",
    "except FileNotFoundError:\n",
    "    print(\"DataLoader failed to load data. Please ensure 'data/raw' and the data files exist.\")\n",
    "    exit()\n",
    "preprocessor = PreprocessData()\n",
    "\n",
    "label = df_train.select('label')\n",
    "df_train = df_train.drop('label')\n",
    "\n",
    "x_train= preprocessor.preprocess_data(df_train)\n",
    "x_test= preprocessor.preprocess_data(df_test)"
   ]
  },
  {
   "cell_type": "code",
   "execution_count": 5,
   "id": "e7ee9bd0",
   "metadata": {},
   "outputs": [
    {
     "data": {
      "text/plain": [
       "(258, 2, 2001)"
      ]
     },
     "execution_count": 5,
     "metadata": {},
     "output_type": "execute_result"
    }
   ],
   "source": [
    "x_train.shape"
   ]
  },
  {
   "cell_type": "code",
   "execution_count": null,
   "id": "a3a7c8e7",
   "metadata": {},
   "outputs": [],
   "source": []
  }
 ],
 "metadata": {
  "kernelspec": {
   "display_name": ".venv",
   "language": "python",
   "name": "python3"
  },
  "language_info": {
   "codemirror_mode": {
    "name": "ipython",
    "version": 3
   },
   "file_extension": ".py",
   "mimetype": "text/x-python",
   "name": "python",
   "nbconvert_exporter": "python",
   "pygments_lexer": "ipython3",
   "version": "3.11.11"
  }
 },
 "nbformat": 4,
 "nbformat_minor": 5
}
